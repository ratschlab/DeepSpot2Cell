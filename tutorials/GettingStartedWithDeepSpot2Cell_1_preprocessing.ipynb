{
 "cells": [
  {
   "cell_type": "markdown",
   "id": "04790142",
   "metadata": {},
   "source": [
    "# DeepSpot2Cell Data Preprocessing\n",
    "\n",
    "This notebook shows how to prepare data for DeepSpot2Cell training by:\n",
    "- Loading HEST datasets\n",
    "- Extracting morphology features from histological images\n",
    "- Processing spot-level expression data"
   ]
  },
  {
   "cell_type": "code",
   "execution_count": null,
   "id": "1bad1a6c",
   "metadata": {},
   "outputs": [],
   "source": [
    "import os\n",
    "os.chdir('../')\n",
    "\n",
    "from deepspot2cell.dataset_creation import process_sample\n",
    "from deepspot2cell.utils.utils_image import get_morphology_model_and_preprocess\n",
    "from hest import iter_hest\n",
    "from tqdm import tqdm\n",
    "import torch\n",
    "\n",
    "dataset_variant = \"_v1\"\n",
    "data_folder = \"hest_data\"\n",
    "model_name = \"phikonv2\"\n",
    "model_path = \"/path/to/phikonv2\"\n",
    "samples_to_process = [\"NCBI864\", \"NCBI873\", \"NCBI856\", \"NCBI860\", \"NCBI858\"]\n",
    "batch_size = 32\n",
    "\n",
    "config = {\n",
    "    'data': {\n",
    "        'data_folder': data_folder,\n",
    "        'dataset_variant': dataset_variant,\n",
    "        'spot_diameter_px': 160,\n",
    "        'patch_size_px': 224,\n",
    "        'qv_thr': 20\n",
    "    },\n",
    "    'dataset': 'lung'\n",
    "}\n",
    "\n",
    "device = torch.device('cuda' if torch.cuda.is_available() else 'cpu')\n",
    "model, preprocess, _ = get_morphology_model_and_preprocess(model_name, device.type, model_path=model_path)\n",
    "\n",
    "os.makedirs(f'{data_folder}/embeddings{dataset_variant}/{model_name}', exist_ok=True)\n",
    "os.makedirs(f'{data_folder}/expressions{dataset_variant}', exist_ok=True)"
   ]
  },
  {
   "cell_type": "code",
   "execution_count": null,
   "id": "110ecf00",
   "metadata": {},
   "outputs": [],
   "source": [
    "for i, st in enumerate(tqdm(iter_hest(data_folder, id_list=samples_to_process, load_transcripts=True), \n",
    "                            desc=\"Processing samples\", total=len(samples_to_process))):\n",
    "    sample_id = samples_to_process[i]\n",
    "    process_sample(sample_id, st, model, preprocess, device, batch_size, config)"
   ]
  },
  {
   "cell_type": "markdown",
   "id": "2cfca82e",
   "metadata": {},
   "source": [
    "## Using the preprocessing script\n",
    "\n",
    "For larger datasets, use the script with a config file:\n",
    "\n",
    "```bash\n",
    "python -m deepspot2cell.dataset_creation --config configs/dataset.example.yaml --dataset lung\n",
    "```\n",
    "\n",
    "Example config:\n",
    "\n",
    "```yaml\n",
    "data:\n",
    "  data_folder: /path/to/hest_data\n",
    "  dataset_variant: _v1\n",
    "  model_name: phikonv2\n",
    "  model_path: /path/to/phikonv2\n",
    "  spot_diameter_px: 160\n",
    "  patch_size_px: 224\n",
    "  qv_thr: 20\n",
    "\n",
    "  lung:\n",
    "    ordered_genes_file: lung_ordered_genes.json\n",
    "    train:\n",
    "      dataset_ids:\n",
    "        - NCBI864\n",
    "        - NCBI873\n",
    "        - NCBI856\n",
    "        - NCBI860\n",
    "        - NCBI858\n",
    "    ood:\n",
    "      dataset_ids: []\n",
    "\n",
    "processing:\n",
    "  gpu_batch_size: 32\n",
    "  cpu_batch_size: 8\n",
    "```"
   ]
  },
  {
   "cell_type": "markdown",
   "id": "ad8cbaac",
   "metadata": {},
   "source": [
    "## Cell Segmentation\n",
    "\n",
    "HEST-1k includes cell segmentations from CellViT. For other datasets, see [CellViT documentation](https://tio-ikim.github.io/CellViT-Inference/usage.html)."
   ]
  }
 ],
 "metadata": {
  "language_info": {
   "name": "python"
  }
 },
 "nbformat": 4,
 "nbformat_minor": 5
}
