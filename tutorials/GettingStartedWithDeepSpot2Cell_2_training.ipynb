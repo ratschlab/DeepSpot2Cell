{
 "cells": [
  {
   "cell_type": "markdown",
   "id": "af0836fd",
   "metadata": {},
   "source": [
    "# Training DeepSpot2Cell\n",
    "\n"
   ]
  },
  {
   "cell_type": "code",
   "execution_count": null,
   "id": "8e66da9d",
   "metadata": {},
   "outputs": [],
   "source": [
    "import os\n",
    "import torch\n",
    "import lightning as L\n",
    "\n",
    "from deepspot2cell import DS2CDataset, DeepSpot2Cell\n",
    "\n",
    "\n",
    "morphology_model = \"phikonv2\"\n",
    "batch_size = 256\n",
    "max_epochs = 400\n",
    "num_workers = 4\n",
    "save_dir = \"results\"\n",
    "\n",
    "data_folder = \"hest_data\"\n",
    "dataset_variant = \"_v1\"\n",
    "train_ids = [\"NCBI864\", \"NCBI873\", \"NCBI856\", \"NCBI860\"]\n",
    "val_ids = [\"NCBI865\", \"NCBI857\"]\n",
    "\n",
    "\n",
    "train_dataset = DS2CDataset(\n",
    "    dataset_variant=dataset_variant,\n",
    "    ids_list=train_ids,\n",
    "    data_path=data_folder,\n",
    "    model_name=morphology_model,\n",
    "    shuffle=True,\n",
    "    normalize=True,\n",
    "    neighb_degree=1,\n",
    ")\n",
    "val_dataset = DS2CDataset(\n",
    "    dataset_variant=dataset_variant,\n",
    "    ids_list=val_ids,\n",
    "    data_path=data_folder,\n",
    "    model_name=morphology_model,\n",
    "    shuffle=False,\n",
    "    normalize=True,\n",
    "    neighb_degree=1,\n",
    ")\n",
    "\n",
    "train_loader = torch.utils.data.DataLoader(\n",
    "    train_dataset,\n",
    "    batch_size=batch_size,\n",
    "    shuffle=True,\n",
    "    num_workers=num_workers,\n",
    "    pin_memory=True\n",
    ")\n",
    "\n",
    "val_loader = torch.utils.data.DataLoader(\n",
    "    val_dataset,\n",
    "    batch_size=batch_size,\n",
    "    shuffle=False,\n",
    "    num_workers=num_workers,\n",
    "    pin_memory=True\n",
    ")\n",
    "\n",
    "sample_batch = next(iter(train_loader))\n",
    "input_size = sample_batch['cell_embeddings'].shape[-1]\n",
    "output_size = sample_batch['spot_expression'].shape[-1]\n",
    "print(f\"Input size: {input_size}, Output size: {output_size}\")\n",
    "\n",
    "model = DeepSpot2Cell(input_size=input_size, output_size=output_size)\n",
    "\n",
    "trainer = L.Trainer(\n",
    "    max_epochs=max_epochs,\n",
    "    accelerator='auto',\n",
    "    devices=1,\n",
    "    logger=True\n",
    ")\n",
    "\n",
    "trainer.fit(model, train_loader, val_loader)"
   ]
  },
  {
   "cell_type": "markdown",
   "id": "df49f631",
   "metadata": {},
   "source": [
    "Save the weights, display the metrics"
   ]
  },
  {
   "cell_type": "code",
   "execution_count": null,
   "id": "0fda3610",
   "metadata": {},
   "outputs": [],
   "source": [
    "os.makedirs(save_dir, exist_ok=True)\n",
    "model_save_path = f\"{save_dir}/final_model.pt\"\n",
    "torch.save(model.state_dict(), model_save_path)\n",
    "print(f\"Model saved at {model_save_path}\")\n",
    "\n",
    "trainer_logs = trainer.logged_metrics\n",
    "available_metrics = {}\n",
    "for key, value in trainer_logs.items():\n",
    "    if isinstance(value, torch.Tensor):\n",
    "        available_metrics[key] = value.item()\n",
    "    else:\n",
    "        available_metrics[key] = value\n",
    "\n",
    "print(\"Available metrics:\")\n",
    "for key, value in available_metrics.items():\n",
    "    print(f\"  {key}: {value}\")"
   ]
  }
 ],
 "metadata": {
  "kernelspec": {
   "display_name": "Python 3",
   "language": "python",
   "name": "python3"
  },
  "language_info": {
   "codemirror_mode": {
    "name": "ipython",
    "version": 3
   },
   "file_extension": ".py",
   "mimetype": "text/x-python",
   "name": "python",
   "nbconvert_exporter": "python",
   "pygments_lexer": "ipython3",
   "version": "3.10.11"
  }
 },
 "nbformat": 4,
 "nbformat_minor": 5
}
